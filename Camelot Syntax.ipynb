{
 "cells": [
  {
   "cell_type": "code",
   "execution_count": null,
   "metadata": {},
   "outputs": [],
   "source": [
    "#EXTRACTING THE TABLES IN CSV---CAMELOT ONLY EXTRACTS IN CSV\n",
    "\n",
    "tab1=camelot.read_pdf(\"HARYANA.pdf\",pages=\"1-end\")\n",
    "tab1.export(\"haryana1.csv\",f=\"csv\")"
   ]
  },
  {
   "cell_type": "code",
   "execution_count": null,
   "metadata": {},
   "outputs": [],
   "source": [
    "#CONCVERTING THE CSV FILES INTO EXCEL FILES--AS PANDAS ONLY HAS EXCEL-CONVERTER\n",
    "\n",
    "import csv\n",
    "from xlsxwriter.workbook import Workbook\n",
    "\n",
    "\n",
    "for csvfile in glob.glob(os.path.join('.', '*.csv')):\n",
    "    workbook = Workbook(csvfile[:-4] + '.xlsx')\n",
    "    worksheet = workbook.add_worksheet()\n",
    "    with open(csvfile, 'rt', encoding='utf8') as f:\n",
    "        reader = csv.reader(f)\n",
    "        for r, row in enumerate(reader):\n",
    "            for c, col in enumerate(row):\n",
    "                worksheet.write(r, c, col)\n",
    "    workbook.close()"
   ]
  },
  {
   "cell_type": "code",
   "execution_count": null,
   "metadata": {},
   "outputs": [],
   "source": [
    "# WRITING ALL THE EXCEL FILES INTO A SINGLE PAGE\n",
    "\n",
    "from pandas import ExcelWriter\n",
    "import glob\n",
    "import os\n",
    "import pandas as pd\n",
    "\n",
    "writer = ExcelWriter(\"output.xlsx\")\n",
    "\n",
    "for filename in glob.glob(\"*.xlsx\"):\n",
    "    excel_file = pd.ExcelFile(filename)\n",
    "    (_, f_name) = os.path.split(filename)\n",
    "    (f_short_name, _) = os.path.splitext(f_name)\n",
    "    for sheet_name in excel_file.sheet_names:\n",
    "        df_excel = pd.read_excel(filename, sheet_name=sheet_name)\n",
    "        df_excel.to_excel(writer, f_short_name+'_'+sheet_name, index=False)\n",
    "\n",
    "writer.save()"
   ]
  },
  {
   "cell_type": "code",
   "execution_count": null,
   "metadata": {},
   "outputs": [],
   "source": []
  }
 ],
 "metadata": {
  "kernelspec": {
   "display_name": "Python 3",
   "language": "python",
   "name": "python3"
  },
  "language_info": {
   "codemirror_mode": {
    "name": "ipython",
    "version": 3
   },
   "file_extension": ".py",
   "mimetype": "text/x-python",
   "name": "python",
   "nbconvert_exporter": "python",
   "pygments_lexer": "ipython3",
   "version": "3.7.3"
  }
 },
 "nbformat": 4,
 "nbformat_minor": 4
}
