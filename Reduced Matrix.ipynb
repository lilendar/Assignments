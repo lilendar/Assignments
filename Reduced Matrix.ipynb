{
 "cells": [
  {
   "cell_type": "code",
   "execution_count": 2,
   "metadata": {},
   "outputs": [
    {
     "name": "stdout",
     "output_type": "stream",
     "text": [
      "1.0  0.0  0.0  0.0  0.0\n",
      "0.0  1.0  0.0  0.0  0.0\n",
      "0.0  0.0  1.0  0.0  0.0\n",
      "0.0  0.0  0.0  1.0  0.0\n",
      "0.0  0.0  0.0  0.0  1.0\n"
     ]
    }
   ],
   "source": [
    "# DEFINE A FUNCTION\n",
    "\n",
    "def ToReducedRowEchelonForm(M):\n",
    "    if not M: return\n",
    "    temp = 0\n",
    "    \n",
    "#rowCount=NO OF ROWS IN THE MATRIX\n",
    "#columnCount = NO OF COLUMNS IN THE MATRIX\n",
    "\n",
    "    rowCount = len(M)\n",
    "    columnCount = len(M[0])\n",
    "    for r in range(rowCount):\n",
    "        if temp >= columnCount:\n",
    "            return\n",
    "        i = r\n",
    "        while M[i][temp] == 0:\n",
    "            i += 1\n",
    "            if i == rowCount:\n",
    "                i = r\n",
    "                lead += 1\n",
    "                if columnCount == temp:\n",
    "                    return\n",
    "                \n",
    "#SWAP THE ROWS i AND r\n",
    "\n",
    "        M[i],M[r] = M[r],M[i]\n",
    "        lv = M[r][temp]\n",
    "        M[r] = [ mrx / float(lv) for mrx in M[r]]\n",
    "        for i in range(rowCount):\n",
    "            if i != r:\n",
    "                lv = M[i][temp]\n",
    "                M[i] = [ iv - lv*rv for rv,iv in zip(M[r],M[i])]\n",
    "        temp += 1\n",
    "# GIVE THE INPUT MATRIX\n",
    "\n",
    "mtx = [\n",
    "   [ 1, 2, 1, -4,5],\n",
    "   [ 2, 3, 1, 11,6],\n",
    "   [2, 0, -3, 22,7],\n",
    "    [7,8,9,8,7],[8,9,8,55,7]]\n",
    " \n",
    "ToReducedRowEchelonForm(mtx)\n",
    "for rw in mtx:\n",
    "  print('  '.join( (str(rv) for rv in rw) ))"
   ]
  },
  {
   "cell_type": "code",
   "execution_count": null,
   "metadata": {},
   "outputs": [],
   "source": []
  },
  {
   "cell_type": "code",
   "execution_count": null,
   "metadata": {},
   "outputs": [],
   "source": []
  },
  {
   "cell_type": "code",
   "execution_count": null,
   "metadata": {},
   "outputs": [],
   "source": []
  }
 ],
 "metadata": {
  "kernelspec": {
   "display_name": "Python 3",
   "language": "python",
   "name": "python3"
  },
  "language_info": {
   "codemirror_mode": {
    "name": "ipython",
    "version": 3
   },
   "file_extension": ".py",
   "mimetype": "text/x-python",
   "name": "python",
   "nbconvert_exporter": "python",
   "pygments_lexer": "ipython3",
   "version": "3.7.3"
  }
 },
 "nbformat": 4,
 "nbformat_minor": 2
}
