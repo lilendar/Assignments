{
 "cells": [
  {
   "cell_type": "raw",
   "metadata": {},
   "source": [
    "Note: Project Euler contains "
   ]
  },
  {
   "cell_type": "code",
   "execution_count": 2,
   "metadata": {},
   "outputs": [
    {
     "name": "stdout",
     "output_type": "stream",
     "text": [
      "33165\n"
     ]
    }
   ],
   "source": [
    "sum=0\n",
    "for i in range(1001):\n",
    "    if (i%3==0 and i%5==0):\n",
    "        sum = sum + i\n",
    "print(sum)        \n",
    "        \n",
    "        "
   ]
  },
  {
   "cell_type": "code",
   "execution_count": 12,
   "metadata": {},
   "outputs": [
    {
     "name": "stdout",
     "output_type": "stream",
     "text": [
      "2318\n"
     ]
    }
   ],
   "source": [
    "# Problem 1\n",
    "\n",
    "\n",
    "# If we list all the natural numbers below 10 that are \n",
    "# multiples of 3 or 5, we get 3, 5, 6 and 9. \n",
    "# The sum of these multiples is 23.\n",
    "# Find the sum of all the multiples of 3 or 5 below 1000.\n",
    "\n",
    "sum=0\n",
    "for i in range(1,100):\n",
    "  if(i%3==0 or i%5==0):\n",
    "    sum=sum+i\n",
    "print(sum)\n"
   ]
  },
  {
   "cell_type": "code",
   "execution_count": 1,
   "metadata": {},
   "outputs": [
    {
     "data": {
      "text/plain": [
       "1907"
      ]
     },
     "execution_count": 1,
     "metadata": {},
     "output_type": "execute_result"
    }
   ],
   "source": [
    "n=13194533\n",
    "a=[]\n",
    "for i in range(2,n):\n",
    "  if n%i==0:\n",
    "    a.append(i)\n",
    "    i=i+1\n",
    "# print(a)    \n",
    "\n",
    "# b is a list of prime factors\n",
    "primes=[]\n",
    "b=len(a)\n",
    "for i in range(b):\n",
    "  if all(a[i]%j!=0 for j in range(2,a[i])):\n",
    "    primes.append(a[i])\n",
    "# print(primes)\n",
    "  \n",
    "# largest prime factor\n",
    "max(primes)"
   ]
  },
  {
   "cell_type": "code",
   "execution_count": null,
   "metadata": {},
   "outputs": [],
   "source": []
  }
 ],
 "metadata": {
  "kernelspec": {
   "display_name": "Python 3",
   "language": "python",
   "name": "python3"
  },
  "language_info": {
   "codemirror_mode": {
    "name": "ipython",
    "version": 3
   },
   "file_extension": ".py",
   "mimetype": "text/x-python",
   "name": "python",
   "nbconvert_exporter": "python",
   "pygments_lexer": "ipython3",
   "version": "3.7.3"
  }
 },
 "nbformat": 4,
 "nbformat_minor": 4
}
