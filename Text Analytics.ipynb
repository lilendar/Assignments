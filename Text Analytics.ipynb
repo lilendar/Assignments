{
 "cells": [
  {
   "cell_type": "markdown",
   "metadata": {},
   "source": [
    "# Solve Linear equation"
   ]
  },
  {
   "cell_type": "code",
   "execution_count": 1,
   "metadata": {},
   "outputs": [
    {
     "name": "stdout",
     "output_type": "stream",
     "text": [
      "[ 62.75 -22.5   -1.75]\n"
     ]
    }
   ],
   "source": [
    "import numpy as np\n",
    ">>> a = np.array([[1,2,5], [1,2,9],[2,5,4]])\n",
    ">>> b = np.array([9,2,6])\n",
    ">>> x = np.linalg.solve(a, b)\n",
    "print(x)"
   ]
  },
  {
   "cell_type": "markdown",
   "metadata": {},
   "source": [
    "# Text Analytics"
   ]
  },
  {
   "cell_type": "code",
   "execution_count": 1,
   "metadata": {},
   "outputs": [],
   "source": [
    "from textblob import TextBlob"
   ]
  },
  {
   "cell_type": "code",
   "execution_count": 7,
   "metadata": {},
   "outputs": [
    {
     "name": "stdout",
     "output_type": "stream",
     "text": [
      "Sentiment(polarity=-0.8, subjectivity=0.9)\n",
      "Sentiment(polarity=-0.15000000000000002, subjectivity=0.75)\n"
     ]
    }
   ],
   "source": [
    "txt1=\"i dont ....... you and also  hate you\"\n",
    "txt2=\"i love the way you hate me\"\n",
    "m1=TextBlob(txt1)\n",
    "m2=TextBlob(txt2)\n",
    "print(m1.sentiment)\n",
    "print(m2.sentiment)"
   ]
  },
  {
   "cell_type": "code",
   "execution_count": 11,
   "metadata": {},
   "outputs": [],
   "source": [
    "import pandas as pd\n",
    "import os\n",
    "os.chdir(\"C:/Users/LILENDAR/Desktop/PROJECT 1/JOKE RECOMMANDER\")\n",
    "trn=pd.read_csv(\"train.csv\")\n",
    "tst=pd.read_csv(\"test.csv\")\n"
   ]
  },
  {
   "cell_type": "code",
   "execution_count": 16,
   "metadata": {},
   "outputs": [
    {
     "data": {
      "text/plain": [
       "9     13738\n",
       "7     13538\n",
       "2     13502\n",
       "4     13495\n",
       "3     13494\n",
       "      ...  \n",
       "42       58\n",
       "41       54\n",
       "70       54\n",
       "33       48\n",
       "63       41\n",
       "Name: joke_id, Length: 139, dtype: int64"
      ]
     },
     "execution_count": 16,
     "metadata": {},
     "output_type": "execute_result"
    }
   ],
   "source": [
    "tst.shape #(537880, 3)\n",
    "tst.columns #'id', 'user_id', 'joke_id'\n",
    "tst.isnull().sum() #clean data\n",
    "tst[\"joke_id\"].value_counts() #Length: 139\n",
    "\n",
    "   "
   ]
  },
  {
   "cell_type": "code",
   "execution_count": 27,
   "metadata": {},
   "outputs": [
    {
     "data": {
      "text/html": [
       "<div>\n",
       "<style scoped>\n",
       "    .dataframe tbody tr th:only-of-type {\n",
       "        vertical-align: middle;\n",
       "    }\n",
       "\n",
       "    .dataframe tbody tr th {\n",
       "        vertical-align: top;\n",
       "    }\n",
       "\n",
       "    .dataframe thead th {\n",
       "        text-align: right;\n",
       "    }\n",
       "</style>\n",
       "<table border=\"1\" class=\"dataframe\">\n",
       "  <thead>\n",
       "    <tr style=\"text-align: right;\">\n",
       "      <th></th>\n",
       "      <th>user_id</th>\n",
       "      <th>joke_id</th>\n",
       "    </tr>\n",
       "  </thead>\n",
       "  <tbody>\n",
       "    <tr>\n",
       "      <th>0</th>\n",
       "      <td>31030</td>\n",
       "      <td>110</td>\n",
       "    </tr>\n",
       "    <tr>\n",
       "      <th>1</th>\n",
       "      <td>16144</td>\n",
       "      <td>109</td>\n",
       "    </tr>\n",
       "    <tr>\n",
       "      <th>2</th>\n",
       "      <td>23098</td>\n",
       "      <td>6</td>\n",
       "    </tr>\n",
       "    <tr>\n",
       "      <th>3</th>\n",
       "      <td>14273</td>\n",
       "      <td>86</td>\n",
       "    </tr>\n",
       "    <tr>\n",
       "      <th>4</th>\n",
       "      <td>18419</td>\n",
       "      <td>134</td>\n",
       "    </tr>\n",
       "  </tbody>\n",
       "</table>\n",
       "</div>"
      ],
      "text/plain": [
       "   user_id  joke_id\n",
       "0    31030      110\n",
       "1    16144      109\n",
       "2    23098        6\n",
       "3    14273       86\n",
       "4    18419      134"
      ]
     },
     "execution_count": 27,
     "metadata": {},
     "output_type": "execute_result"
    }
   ],
   "source": [
    "\n",
    "trn.shape      #(1092059, 4)\n",
    "trn.columns   #'id', 'user_id', 'joke_id', 'Rating'\n",
    "trn.isnull().sum() #clean data\n",
    "trn[\"joke_id\"].value_counts()   #Length: 139\n",
    "X=trn.drop([\"id\", \"Rating\"],axis=1)\n",
    "y=trn[\"Rating\"]\n",
    "X.head()"
   ]
  },
  {
   "cell_type": "code",
   "execution_count": null,
   "metadata": {},
   "outputs": [],
   "source": [
    "#no of user=41000, jokes=139\n",
    "#possible combination = 56,99,000"
   ]
  },
  {
   "cell_type": "code",
   "execution_count": null,
   "metadata": {},
   "outputs": [],
   "source": []
  }
 ],
 "metadata": {
  "kernelspec": {
   "display_name": "Python 3",
   "language": "python",
   "name": "python3"
  },
  "language_info": {
   "codemirror_mode": {
    "name": "ipython",
    "version": 3
   },
   "file_extension": ".py",
   "mimetype": "text/x-python",
   "name": "python",
   "nbconvert_exporter": "python",
   "pygments_lexer": "ipython3",
   "version": "3.7.3"
  }
 },
 "nbformat": 4,
 "nbformat_minor": 2
}
