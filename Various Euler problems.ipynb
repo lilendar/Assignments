{
 "cells": [
  {
   "cell_type": "code",
   "execution_count": 9,
   "metadata": {},
   "outputs": [
    {
     "data": {
      "text/plain": [
       "7"
      ]
     },
     "execution_count": 9,
     "metadata": {},
     "output_type": "execute_result"
    }
   ],
   "source": [
    "def sum(a,b):\n",
    "    return a+b\n",
    "sum(2,5)"
   ]
  },
  {
   "cell_type": "code",
   "execution_count": null,
   "metadata": {},
   "outputs": [],
   "source": [
    "#RREF\n",
    "import numpy as np\n",
    "\n",
    "def rref(M):\n",
    "        lead = 0\n",
    "        rowCount = len(M)\n",
    "        columnCount = len(M[0])\n",
    "        for r in range(rowCount):\n",
    "                if lead >= columnCount:\n",
    "                        return\n",
    "                i = r\n",
    "                while (M[i][lead] == 0):\n",
    "                        i += 1\n",
    "                        if (i == rowCount):\n",
    "                                i = r\n",
    "                                lead += 1\n",
    "                                if (columnCount == lead):\n",
    "                                        return\n",
    "                M[[r,i]] = M[[i,r]]\n",
    "\n",
    "                if (M[r][lead] != 0):\n",
    "                        M[r] = M[r]/M[r][lead]\n",
    "                for i in range (rowCount):\n",
    "                        if (i != r):\n",
    "                                M[i] = M[i] - M[i][lead]*M[r]\n",
    "                lead += 1\n",
    "\n",
    "a = np.array([[0,-3,1,-1],[-2,1,0,3]])\n",
    "\n",
    "#prints original matrix\n",
    "print(a)\n",
    "\n",
    "#ARRAY MUST BE FLOATS FOR RREF FUNCTION\n",
    "\n",
    "a = a.astype(np.float)\n",
    "rref(a)\n",
    "print(a)"
   ]
  },
  {
   "cell_type": "code",
   "execution_count": 6,
   "metadata": {},
   "outputs": [
    {
     "name": "stdout",
     "output_type": "stream",
     "text": [
      "6857\n",
      "found in 0.1289832592010498 seconds\n"
     ]
    }
   ],
   "source": [
    "# Euler Problem 1\n",
    "\n",
    "import math \n",
    "import time\n",
    "start=time.time()\n",
    "n=600851475143\n",
    "a=[]\n",
    "while n%2==0: \n",
    "    lpf=2\n",
    "    n/=2\n",
    "\n",
    "for i in range(3, int(math.sqrt(n)) + 1, 2): \n",
    "    if n%i==0:\n",
    "        lpf=i \n",
    "        n=n/i\n",
    "if n>=i:\n",
    "    lpf=n\n",
    "print(lpf)\n",
    "end=time.time()\n",
    "print(\"found in\",end-start,\"seconds\")\n"
   ]
  },
  {
   "cell_type": "code",
   "execution_count": null,
   "metadata": {},
   "outputs": [],
   "source": []
  },
  {
   "cell_type": "code",
   "execution_count": 89,
   "metadata": {},
   "outputs": [
    {
     "name": "stdout",
     "output_type": "stream",
     "text": [
      "104743\n",
      "found in 0.4775712490081787 seconds\n"
     ]
    }
   ],
   "source": [
    "# Euler Problem 7\n",
    "\n",
    "import math \n",
    "import time\n",
    "\n",
    "start=time.time()\n",
    "n=10001\n",
    "\n",
    "def isPrime(i):\n",
    "    if i%2==0: \n",
    "        return False\n",
    "    p=3\n",
    "    while p<int(math.sqrt(i)+1):\n",
    "        if i%p==0:\n",
    "            return False\n",
    "        p=p+2\n",
    "    return True\n",
    " \n",
    "p=2\n",
    "c=1\n",
    "i=3\n",
    "while c<n:\n",
    "    if isPrime(i):\n",
    "        p=i\n",
    "        c=c+1\n",
    "    i=i+2\n",
    "end=time.time()\n",
    "print(p)\n",
    "print(\"found in\",end-start,\"seconds\")\n"
   ]
  },
  {
   "cell_type": "code",
   "execution_count": 90,
   "metadata": {},
   "outputs": [
    {
     "name": "stdout",
     "output_type": "stream",
     "text": [
      "142913828922\n",
      "found in 28.328092098236084 seconds\n"
     ]
    }
   ],
   "source": [
    "# Euler Problem 10\n",
    "\n",
    "import math \n",
    "import time\n",
    "\n",
    "start=time.time()\n",
    "n=2000000\n",
    "sum=2\n",
    "def isPrime(i):\n",
    "    if i%2==0: \n",
    "        return False\n",
    "    p=3\n",
    "    while p<int(math.sqrt(i)+1):\n",
    "        if i%p==0:\n",
    "            return False\n",
    "        p=p+2\n",
    "    return True\n",
    " \n",
    "p=2\n",
    "c=1\n",
    "i=3\n",
    "while i<n:\n",
    "    if isPrime(i):\n",
    "        p=i\n",
    "        c=c+1\n",
    "        sum=sum+i\n",
    "    i=i+2\n",
    "end=time.time()\n",
    "print(sum)\n",
    "print(\"found in\",end-start,\"seconds\")\n"
   ]
  },
  {
   "cell_type": "code",
   "execution_count": 91,
   "metadata": {},
   "outputs": [
    {
     "name": "stdout",
     "output_type": "stream",
     "text": [
      "4613732\n",
      "found in 0.00017905235290527344 seconds\n"
     ]
    }
   ],
   "source": [
    "# Euler Problem 2\n",
    "\n",
    "import time\n",
    "start=time.time()\n",
    "limit=4000000\n",
    "sum=0\n",
    "a=1\n",
    "b=1\n",
    "c=a+b\n",
    "while c<limit:\n",
    "    sum=sum+c\n",
    "    a=b+c\n",
    "    b=c+a\n",
    "    c=a+b\n",
    "end=time.time()\n",
    "print(sum)\n",
    "print(\"found in\",end-start,\"seconds\")\n"
   ]
  },
  {
   "cell_type": "code",
   "execution_count": 92,
   "metadata": {},
   "outputs": [
    {
     "name": "stdout",
     "output_type": "stream",
     "text": [
      "25164150\n",
      "found in 0.00020885467529296875 seconds\n"
     ]
    }
   ],
   "source": [
    "# Euler Problem 6\n",
    "\n",
    "import time\n",
    "start=time.time()\n",
    "def sosq(n):\n",
    "    tot=0\n",
    "    i=1\n",
    "    for i in range(1,n+1):\n",
    "        sq=i**2\n",
    "        #print(\"*\",sq)\n",
    "        tot=tot+sq\n",
    "    return tot\n",
    "\n",
    "def sqos(n):\n",
    "    sum=0\n",
    "    i=1\n",
    "    for i in range(1,n+1):\n",
    "        sum=sum+i\n",
    "    sq=sum*sum\n",
    "    return sq\n",
    "\n",
    "def diff(n):\n",
    "    res=sqos(n)-sosq(n)\n",
    "    return res\n",
    "\n",
    "c=diff(100)\n",
    "end=time.time()\n",
    "print(c)\n",
    "print(\"found in\",end-start,\"seconds\")\n"
   ]
  },
  {
   "cell_type": "code",
   "execution_count": 2,
   "metadata": {},
   "outputs": [
    {
     "name": "stdout",
     "output_type": "stream",
     "text": [
      "minimum path sum is  425185\n",
      "reached in  13 iterations\n"
     ]
    }
   ],
   "source": [
    "# Euler Problem 83\n",
    "\n",
    "f = open('p081_matrix.txt','r')\n",
    "M = [[ int(num) for num in line.split(',')] for line in f]\n",
    "N = [[10000000 for x in range(len(M))]for y in range(len(M))]\n",
    "\n",
    "N[0][0] = M[0][0]\n",
    "flag = True\n",
    "count = 0\n",
    "while flag:\n",
    "    flag = False\n",
    "    count += 1\n",
    "    for i in range(len(M)):\n",
    "        for j in range(len(M)):\n",
    "            paths = []\n",
    "            if (i-1)>=0: \n",
    "                paths.append(N[i-1][j])\n",
    "            if (i+1)<len(M):\n",
    "                paths.append(N[i+1][j])\n",
    "            if (j-1)>=0:\n",
    "                paths.append(N[i][j-1])\n",
    "            if (j+1)<len(M):\n",
    "                paths.append(N[i][j+1])\n",
    "            mp = min(paths)\n",
    "            if mp+M[i][j] < N[i][j]:\n",
    "                N[i][j] = mp + M[i][j]\n",
    "                flag = True\n",
    "\n",
    "a = len(N)-1\n",
    "print ('minimum path sum is ',N[a][a])\n",
    "print('reached in ',count,'iterations')"
   ]
  },
  {
   "cell_type": "code",
   "execution_count": 1,
   "metadata": {},
   "outputs": [
    {
     "name": "stdout",
     "output_type": "stream",
     "text": [
      "427337\n"
     ]
    }
   ],
   "source": [
    "# Euler Problem 81\n",
    "\n",
    "def prettyprint(B):\n",
    "    for i in range(len(B)):\n",
    "        for j in range(len(B[i])):\n",
    "            print(B[i][j],end=\"\\t\")\n",
    "        print(\"\")\n",
    "    print(\"---\")\n",
    "    return None\n",
    "\n",
    "f = open('p081_matrix.txt','r')\n",
    "A = [[ int(num) for num in line.split(',')] for line in f]\n",
    "B = [[None for x in range(len(A))]for y in range(len(A))]\n",
    "\n",
    "\n",
    "\n",
    "B[79][79]  = A[79][79]\n",
    "N=80\n",
    "def update(B):\n",
    "    for i in range(N):\n",
    "        for j in range(N):\n",
    "            if ( B[i][j] == None):\n",
    "                if ( i == N-1 and j == N-1 ):\n",
    "                    pass\n",
    "                elif ( i == N-1 and j < N-1 ):\n",
    "                    if (  B[i][j+1] != None):\n",
    "                        B[i][j] = A[i][j]+B[i][j+1]\n",
    "                elif ( i < N-1 and j == N-1 ):\n",
    "                    if(  B[i+1][j] != None):\n",
    "                        B[i][j] = A[i][j]+B[i+1][j]\n",
    "                else:\n",
    "                    if ( B[i][j+1] != None and B[i+1][j] != None ):\n",
    "                        B[i][j] = min(A[i][j]+B[i][j+1], A[i][j]+B[i+1][j] )\n",
    "for i in range(1000):\n",
    "    update(B)\n",
    "\n",
    "print(B[0][0])"
   ]
  },
  {
   "cell_type": "code",
   "execution_count": 10,
   "metadata": {},
   "outputs": [
    {
     "ename": "NameError",
     "evalue": "name 'recDC' is not defined",
     "output_type": "error",
     "traceback": [
      "\u001b[1;31m---------------------------------------------------------------------------\u001b[0m",
      "\u001b[1;31mNameError\u001b[0m                                 Traceback (most recent call last)",
      "\u001b[1;32m<ipython-input-10-79a51f862179>\u001b[0m in \u001b[0;36m<module>\u001b[1;34m\u001b[0m\n\u001b[0;32m     17\u001b[0m     \u001b[1;32mreturn\u001b[0m \u001b[0mminCoins\u001b[0m\u001b[1;33m\u001b[0m\u001b[1;33m\u001b[0m\u001b[0m\n\u001b[0;32m     18\u001b[0m \u001b[1;33m\u001b[0m\u001b[0m\n\u001b[1;32m---> 19\u001b[1;33m \u001b[0mprint\u001b[0m\u001b[1;33m(\u001b[0m\u001b[0mmakechange\u001b[0m\u001b[1;33m(\u001b[0m\u001b[1;33m[\u001b[0m\u001b[1;36m1\u001b[0m\u001b[1;33m,\u001b[0m\u001b[1;36m5\u001b[0m\u001b[1;33m,\u001b[0m\u001b[1;36m10\u001b[0m\u001b[1;33m,\u001b[0m\u001b[1;36m25\u001b[0m\u001b[1;33m]\u001b[0m\u001b[1;33m,\u001b[0m\u001b[1;36m487\u001b[0m\u001b[1;33m,\u001b[0m\u001b[1;33m[\u001b[0m\u001b[1;36m0\u001b[0m\u001b[1;33m]\u001b[0m\u001b[1;33m*\u001b[0m\u001b[1;36m488\u001b[0m\u001b[1;33m)\u001b[0m\u001b[1;33m)\u001b[0m\u001b[1;33m\u001b[0m\u001b[1;33m\u001b[0m\u001b[0m\n\u001b[0m",
      "\u001b[1;32m<ipython-input-10-79a51f862179>\u001b[0m in \u001b[0;36mmakechange\u001b[1;34m(coinValueList, change, knownResults)\u001b[0m\n\u001b[0;32m     10\u001b[0m     \u001b[1;32melse\u001b[0m\u001b[1;33m:\u001b[0m\u001b[1;33m\u001b[0m\u001b[1;33m\u001b[0m\u001b[0m\n\u001b[0;32m     11\u001b[0m         \u001b[1;32mfor\u001b[0m \u001b[0mi\u001b[0m \u001b[1;32min\u001b[0m \u001b[1;33m[\u001b[0m\u001b[0mc\u001b[0m \u001b[1;32mfor\u001b[0m \u001b[0mc\u001b[0m \u001b[1;32min\u001b[0m \u001b[0mcoinValueList\u001b[0m \u001b[1;32mif\u001b[0m \u001b[0mc\u001b[0m \u001b[1;33m<=\u001b[0m \u001b[0mchange\u001b[0m\u001b[1;33m]\u001b[0m\u001b[1;33m:\u001b[0m\u001b[1;33m\u001b[0m\u001b[1;33m\u001b[0m\u001b[0m\n\u001b[1;32m---> 12\u001b[1;33m             numCoins = 1 + recDC(coinValueList, change-i,\n\u001b[0m\u001b[0;32m     13\u001b[0m                               knownResults)\n\u001b[0;32m     14\u001b[0m             \u001b[1;32mif\u001b[0m \u001b[0mnumCoins\u001b[0m \u001b[1;33m<\u001b[0m \u001b[0mminCoins\u001b[0m\u001b[1;33m:\u001b[0m\u001b[1;33m\u001b[0m\u001b[1;33m\u001b[0m\u001b[0m\n",
      "\u001b[1;31mNameError\u001b[0m: name 'recDC' is not defined"
     ]
    }
   ],
   "source": [
    "# Dynamic Programming for make change\n",
    "\n",
    "def makechange(coinValueList,change,knownResults):\n",
    "    minCoins = change\n",
    "    if change in coinValueList:\n",
    "        knownResults[change] = 1\n",
    "        return 1\n",
    "    elif knownResults[change] > 0:\n",
    "        return knownResults[change]\n",
    "    else:\n",
    "        for i in [c for c in coinValueList if c <= change]:\n",
    "            numCoins = 1 + recDC(coinValueList, change-i,\n",
    "                              knownResults)\n",
    "            if numCoins < minCoins:\n",
    "                minCoins = numCoins\n",
    "                knownResults[change] = minCoins\n",
    "    return minCoins\n",
    "\n",
    "print(makechange([1,5,10,25],487,[0]*488))"
   ]
  },
  {
   "cell_type": "code",
   "execution_count": 2,
   "metadata": {},
   "outputs": [
    {
     "data": {
      "text/plain": [
       "260324"
      ]
     },
     "execution_count": 2,
     "metadata": {},
     "output_type": "execute_result"
    }
   ],
   "source": [
    "# Euler Problem 82\n",
    "\n",
    "f = open('matrix82.txt','r')\n",
    "matrix = [[ int(num) for num in line.split(',')] for line in f]\n",
    "def least_sum(matrix):    \n",
    "\n",
    "    size = len(matrix)\n",
    "    A = [matrix[row][0] for row in range(size)]\n",
    "    for col in range(1, size):\n",
    "        B = [matrix[row][col] for row in range(size)]\n",
    "        t = B[:]\n",
    "        for i in range(size):\n",
    "            B[i] += A[i]\n",
    "            for j in range(0, i): \n",
    "                if sum([A[j]]+t[j:i+1]) < B[i]:\n",
    "                    B[i] = sum([A[j]]+t[j:i+1])\n",
    "            for k in range(i, size):\n",
    "                if sum([A[k]] +t[i:k+1]) < B[i]:\n",
    "                    B[i] = sum([A[k]] +t[i:k+1])\n",
    "        A = B\n",
    "    return min(A)\n",
    "least_sum(matrix)\n"
   ]
  },
  {
   "cell_type": "code",
   "execution_count": 6,
   "metadata": {},
   "outputs": [],
   "source": [
    "# Trading Problem\n",
    "# BSE URL and download using wget\n",
    "# works for all days from 01/01/2007\n",
    "\n",
    "\n",
    "import datetime, time, os, wget, zipfile\n",
    "os.chdir(\"/Users/rohith/Documents/Term2/introductiontoprogramming/\")\n",
    "\n",
    "def getBSEURL(d):\n",
    "    try:\n",
    "        today = d\n",
    "        urlto = 'https://www.bseindia.com/download/BhavCopy/Equity/EQ'+today+'_CSV.ZIP'\n",
    "        os.system(\"wget \"+ urlto + \" -U\\\"X11/Mozilla\\\" --mirror -P BSEdata/ -nd\")\n",
    "    except:\n",
    "        print(\"Does not exist on \" + d)\n",
    "\n",
    "\n",
    "start_date = datetime.date(2020, 1, 1)\n",
    "end_date = datetime.date(2020, 1, 15)\n",
    "delta = datetime.timedelta(days=1)\n",
    "while start_date <= end_date:\n",
    "    d = start_date.strftime(\"%d%m%y\")\n",
    "    getBSEURL(d)\n",
    "    start_date += delta\n",
    "    "
   ]
  },
  {
   "cell_type": "code",
   "execution_count": 7,
   "metadata": {},
   "outputs": [
    {
     "name": "stdout",
     "output_type": "stream",
     "text": [
      "Done!\n",
      "Done!\n",
      "Done!\n",
      "File not found on: 040120\n",
      "File not found on: 050120\n",
      "Done!\n",
      "Done!\n",
      "Done!\n",
      "Done!\n",
      "Done!\n",
      "File not found on: 110120\n",
      "File not found on: 120120\n",
      "Done!\n",
      "Done!\n",
      "Done!\n"
     ]
    }
   ],
   "source": [
    "# unzipping all BSE files\n",
    "\n",
    "def BSEunzip(d):\n",
    "    filename = \"EQ\"+d+\"_CSV.ZIP\"\n",
    "    try:\n",
    "        with zipfile.ZipFile(filename, 'r') as zip: \n",
    "            zip.extractall(\"/Users/rohith/Documents/Term2/introductiontoprogramming/BSEcsvdata/\")\n",
    "            print('Done!')\n",
    "    except:\n",
    "        print(\"File not found on: \" + d)\n",
    "        \n",
    "os.chdir(\"/Users/rohith/Documents/Term2/introductiontoprogramming/BSEdata/\")       \n",
    "start_date = datetime.date(2020, 1, 1)\n",
    "end_date = datetime.date(2020, 1, 15)\n",
    "delta = datetime.timedelta(days=1)\n",
    "while start_date <= end_date:\n",
    "    d = start_date.strftime(\"%d%m%y\")\n",
    "    BSEunzip(d)\n",
    "    start_date += delta\n",
    "   "
   ]
  },
  {
   "cell_type": "code",
   "execution_count": 8,
   "metadata": {},
   "outputs": [
    {
     "data": {
      "text/plain": [
       "['EQ130120.CSV',\n",
       " 'EQ030120.CSV',\n",
       " 'EQ020120.CSV',\n",
       " 'combined_csv.csv',\n",
       " 'EQ100120.CSV',\n",
       " 'EQ090120.CSV',\n",
       " 'EQ080120.CSV',\n",
       " 'EQ010120.CSV',\n",
       " 'EQ140120.CSV',\n",
       " 'EQ150120.CSV',\n",
       " '.ipynb_checkpoints',\n",
       " 'EQ070120.CSV',\n",
       " 'EQ060120.CSV']"
      ]
     },
     "execution_count": 8,
     "metadata": {},
     "output_type": "execute_result"
    }
   ],
   "source": [
    "# putting the csv file into a pandas dataframe\n",
    "\n",
    "import pandas as pd\n",
    "os.chdir(\"/Users/rohith/Documents/Term2/introductiontoprogramming/BSEcsvdata/\")   \n",
    "data = pd.read_csv(\"EQ010120.csv\")\n",
    "\n",
    "csvFiles = list(os.listdir())\n",
    "csvFiles"
   ]
  },
  {
   "cell_type": "code",
   "execution_count": 9,
   "metadata": {},
   "outputs": [],
   "source": [
    "# combining multiple csv files into a single file\n",
    "\n",
    "import os\n",
    "import glob\n",
    "import pandas as pd\n",
    "\n",
    "os.chdir('/Users/rohith/Documents/Term2/introductiontoprogramming/BSEcsvdata/')\n",
    "extension = 'CSV'\n",
    "all_filenames = [i for i in glob.glob('*.{}'.format(extension))]\n",
    "combined_csv = pd.concat([pd.read_csv(f) for f in all_filenames ])\n",
    "combined_csv.to_csv( \"combined_csv.csv\", index=False, encoding='utf-8-sig')"
   ]
  },
  {
   "cell_type": "code",
   "execution_count": 11,
   "metadata": {},
   "outputs": [
    {
     "data": {
      "text/html": [
       "<div>\n",
       "<style scoped>\n",
       "    .dataframe tbody tr th:only-of-type {\n",
       "        vertical-align: middle;\n",
       "    }\n",
       "\n",
       "    .dataframe tbody tr th {\n",
       "        vertical-align: top;\n",
       "    }\n",
       "\n",
       "    .dataframe thead th {\n",
       "        text-align: right;\n",
       "    }\n",
       "</style>\n",
       "<table border=\"1\" class=\"dataframe\">\n",
       "  <thead>\n",
       "    <tr style=\"text-align: right;\">\n",
       "      <th></th>\n",
       "      <th>Date</th>\n",
       "      <th>Open Price</th>\n",
       "      <th>High Price</th>\n",
       "      <th>Low Price</th>\n",
       "      <th>Close Price</th>\n",
       "      <th>WAP</th>\n",
       "      <th>No.of Shares</th>\n",
       "      <th>No. of Trades</th>\n",
       "      <th>Total Turnover (Rs.)</th>\n",
       "      <th>Deliverable Quantity</th>\n",
       "      <th>% Deli. Qty to Traded Qty</th>\n",
       "      <th>Spread High-Low</th>\n",
       "      <th>Spread Close-Open</th>\n",
       "    </tr>\n",
       "  </thead>\n",
       "  <tbody>\n",
       "    <tr>\n",
       "      <th>0</th>\n",
       "      <td>2020-01-01</td>\n",
       "      <td>1275.0</td>\n",
       "      <td>1280.4</td>\n",
       "      <td>1271.0</td>\n",
       "      <td>1279.05</td>\n",
       "      <td>1277.217288</td>\n",
       "      <td>44876</td>\n",
       "      <td>2304</td>\n",
       "      <td>57316403.0</td>\n",
       "      <td>21684</td>\n",
       "      <td>48.32</td>\n",
       "      <td>9.4</td>\n",
       "      <td>4.05</td>\n",
       "    </tr>\n",
       "    <tr>\n",
       "      <th>1</th>\n",
       "      <td>2019-12-31</td>\n",
       "      <td>1286.8</td>\n",
       "      <td>1286.8</td>\n",
       "      <td>1269.0</td>\n",
       "      <td>1271.80</td>\n",
       "      <td>1273.143424</td>\n",
       "      <td>45369</td>\n",
       "      <td>3413</td>\n",
       "      <td>57761244.0</td>\n",
       "      <td>23784</td>\n",
       "      <td>52.42</td>\n",
       "      <td>17.8</td>\n",
       "      <td>-15.00</td>\n",
       "    </tr>\n",
       "    <tr>\n",
       "      <th>2</th>\n",
       "      <td>2019-12-30</td>\n",
       "      <td>1280.0</td>\n",
       "      <td>1288.5</td>\n",
       "      <td>1274.8</td>\n",
       "      <td>1280.85</td>\n",
       "      <td>1279.356194</td>\n",
       "      <td>713086</td>\n",
       "      <td>6298</td>\n",
       "      <td>912290991.0</td>\n",
       "      <td>326730</td>\n",
       "      <td>45.82</td>\n",
       "      <td>13.7</td>\n",
       "      <td>0.85</td>\n",
       "    </tr>\n",
       "    <tr>\n",
       "      <th>3</th>\n",
       "      <td>2019-12-27</td>\n",
       "      <td>1278.0</td>\n",
       "      <td>1279.0</td>\n",
       "      <td>1270.0</td>\n",
       "      <td>1274.90</td>\n",
       "      <td>1275.153841</td>\n",
       "      <td>83333</td>\n",
       "      <td>3238</td>\n",
       "      <td>106262395.0</td>\n",
       "      <td>42217</td>\n",
       "      <td>50.66</td>\n",
       "      <td>9.0</td>\n",
       "      <td>-3.10</td>\n",
       "    </tr>\n",
       "    <tr>\n",
       "      <th>4</th>\n",
       "      <td>2019-12-26</td>\n",
       "      <td>1297.4</td>\n",
       "      <td>1297.4</td>\n",
       "      <td>1265.1</td>\n",
       "      <td>1271.55</td>\n",
       "      <td>1279.164735</td>\n",
       "      <td>106498</td>\n",
       "      <td>4892</td>\n",
       "      <td>136228486.0</td>\n",
       "      <td>45371</td>\n",
       "      <td>42.60</td>\n",
       "      <td>32.3</td>\n",
       "      <td>-25.85</td>\n",
       "    </tr>\n",
       "  </tbody>\n",
       "</table>\n",
       "</div>"
      ],
      "text/plain": [
       "        Date  Open Price  High Price  Low Price  Close Price          WAP  \\\n",
       "0 2020-01-01      1275.0      1280.4     1271.0      1279.05  1277.217288   \n",
       "1 2019-12-31      1286.8      1286.8     1269.0      1271.80  1273.143424   \n",
       "2 2019-12-30      1280.0      1288.5     1274.8      1280.85  1279.356194   \n",
       "3 2019-12-27      1278.0      1279.0     1270.0      1274.90  1275.153841   \n",
       "4 2019-12-26      1297.4      1297.4     1265.1      1271.55  1279.164735   \n",
       "\n",
       "   No.of Shares  No. of Trades  Total Turnover (Rs.)  Deliverable Quantity  \\\n",
       "0         44876           2304            57316403.0                 21684   \n",
       "1         45369           3413            57761244.0                 23784   \n",
       "2        713086           6298           912290991.0                326730   \n",
       "3         83333           3238           106262395.0                 42217   \n",
       "4        106498           4892           136228486.0                 45371   \n",
       "\n",
       "   % Deli. Qty to Traded Qty  Spread High-Low  Spread Close-Open  \n",
       "0                      48.32              9.4               4.05  \n",
       "1                      52.42             17.8             -15.00  \n",
       "2                      45.82             13.7               0.85  \n",
       "3                      50.66              9.0              -3.10  \n",
       "4                      42.60             32.3             -25.85  "
      ]
     },
     "execution_count": 11,
     "metadata": {},
     "output_type": "execute_result"
    }
   ],
   "source": [
    "# Reading HDFC stock data from a csv file into a pandas dataframe\n",
    "import os\n",
    "import pandas as pd\n",
    "os.chdir(\"/Users/rohith/Documents/Term2/introductiontoprogramming/\")   \n",
    "data = pd.read_csv(\"hdfcdata.csv\")\n",
    "data['Date'] = pd.to_datetime(data.Date)\n",
    "data.head()"
   ]
  },
  {
   "cell_type": "code",
   "execution_count": 13,
   "metadata": {},
   "outputs": [
    {
     "data": {
      "text/plain": [
       "Text(0, 0.5, 'WAP')"
      ]
     },
     "execution_count": 13,
     "metadata": {},
     "output_type": "execute_result"
    },
    {
     "data": {
      "image/png": "[encoded data removed]",
      "text/plain": [
       "<Figure size 432x288 with 1 Axes>"
      ]
     },
     "metadata": {
      "needs_background": "light"
     },
     "output_type": "display_data"
    }
   ],
   "source": [
    "# Plotting WAP vs date\n",
    "\n",
    "import matplotlib.pyplot as plt\n",
    "\n",
    "plt.plot(data.Date,data.WAP)\n",
    "plt.xlabel('date')\n",
    "plt.ylabel('WAP')\n"
   ]
  },
  {
   "cell_type": "code",
   "execution_count": 7,
   "metadata": {},
   "outputs": [
    {
     "name": "stdout",
     "output_type": "stream",
     "text": [
      "E[X] =  0.1 E[Y] =  0.07999999999999999\n",
      "Var[X] =  0.0076 Var[Y] =  0.007080000000000001\n",
      "Cov[X,Y] =  -0.0024\n",
      "Corr[X,Y] =  -0.3271808050833462\n",
      "Minimum Var Portfolio: a =  0.486652977412731\n"
     ]
    },
    {
     "data": {
      "text/plain": [
       "Text(0.5, 0, 'stdev')"
      ]
     },
     "execution_count": 7,
     "metadata": {},
     "output_type": "execute_result"
    }
   ],
   "source": [
    "# Portfolio return and variance\n",
    "# Finding the minimum variance portfolio\n",
    "\n",
    "import matplotlib.pyplot as plt\n",
    "import math\n",
    "\n",
    "prob = [0.2]*5\n",
    "\n",
    "retX = [0.11, 0.09, 0.25, 0.07, -0.02]\n",
    "retY = [-0.03, 0.15, 0.02, 0.20, 0.06]\n",
    "\n",
    "asset, assetX, assetY = [], [], []\n",
    "def expRet(asset):\n",
    "    return sum(x for x in asset)/len(asset)\n",
    "\n",
    "def var(asset,prob):\n",
    "    q = [ (x-expRet(asset))**2 for x in asset]\n",
    "    for i in range(len(asset)):\n",
    "        q[i] = q[i]*prob[i]\n",
    "    return sum(q)\n",
    "\n",
    "\n",
    "def covar(assetX,assetY,prob):\n",
    "    covariance = 0\n",
    "    for i in range(len(assetX)):\n",
    "        prod = prob[i]*(assetX[i]-expRet(assetX))*(assetY[i]-expRet(assetY))\n",
    "        covariance+=prod\n",
    "    return covariance\n",
    "\n",
    "def corr(cov,stdevX,stdevY):\n",
    "    r = cov/(stdevX*stdevY)\n",
    "    return r\n",
    "    \n",
    "\n",
    "\n",
    "def minVarPort(retX,retY,prob):\n",
    "    varX = var(retX,prob)\n",
    "    varY = var(retY,prob)\n",
    "    covXY = covar(retX,retY,prob)\n",
    "    a = (varY - covXY)/(varX + varY - 2*covXY)\n",
    "    return a\n",
    "\n",
    "\n",
    "\n",
    "#Rp = aX + bY\n",
    "\n",
    "portRet = []\n",
    "portVar = []\n",
    "portStdev = []\n",
    "weights = []\n",
    "a = -0.5 # make zero for no short selling condition\n",
    "while a <= 1.5:\n",
    "    b = 1 - a\n",
    "    retRp = (a*expRet(retX)) + (b*expRet(retY))\n",
    "    varRp = (((a**2)*var(retX,prob)) + ((b**2)*var(retY,prob))\\\n",
    "             + (2*a*b*covar(retX,retY,prob)))\n",
    "    stdevRp = math.sqrt(varRp)\n",
    "    portRet.append(retRp)\n",
    "    portVar.append(varRp)\n",
    "    portStdev.append(stdevRp)\n",
    "    weights.append(a)\n",
    "    a = a + 0.05\n",
    "    \n",
    "\n",
    "\n",
    "EX = expRet(retX)\n",
    "EY = expRet(retY)\n",
    "varX = var(retX,prob)\n",
    "varY = var(retY,prob)\n",
    "covXY = covar(retX,retY,prob)\n",
    "corrXY = corr(covar(retX,retY,prob),math.sqrt(var(retX,prob)),math.sqrt(var(retY,prob)))\n",
    "minvarXY = minVarPort(retX,retY,prob)\n",
    "\n",
    "\n",
    "print('E[X] = ',EX,'E[Y] = ',EY)\n",
    "print('Var[X] = ',varX,'Var[Y] = ',varY)\n",
    "print('Cov[X,Y] = ',covXY)\n",
    "print('Corr[X,Y] = ',corrXY)\n",
    "print('Minimum Var Portfolio: a = ',minvarXY)\n",
    "\n",
    "plt.figure()\n",
    "plt.plot(weights,portRet)\n",
    "plt.ylabel('return')\n",
    "plt.xlabel('weights')\n",
    "\n",
    "plt.figure()\n",
    "plt.plot(weights,portStdev)\n",
    "plt.ylabel('stdev')\n",
    "plt.xlabel('weights')\n",
    "\n",
    "plt.figure()\n",
    "plt.plot(portStdev,portRet)\n",
    "plt.ylabel('return')\n",
    "plt.xlabel('stdev')"
   ]
  },
  {
   "cell_type": "code",
   "execution_count": null,
   "metadata": {},
   "outputs": [],
   "source": []
  }
 ],
 "metadata": {
  "kernelspec": {
   "display_name": "Python 3",
   "language": "python",
   "name": "python3"
  },
  "language_info": {
   "codemirror_mode": {
    "name": "ipython",
    "version": 3
   },
   "file_extension": ".py",
   "mimetype": "text/x-python",
   "name": "python",
   "nbconvert_exporter": "python",
   "pygments_lexer": "ipython3",
   "version": "3.7.3"
  }
 },
 "nbformat": 4,
 "nbformat_minor": 4
}
